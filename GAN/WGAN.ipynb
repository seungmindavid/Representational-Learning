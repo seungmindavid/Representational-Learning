{
  "nbformat": 4,
  "nbformat_minor": 0,
  "metadata": {
    "colab": {
      "provenance": [],
      "gpuType": "T4",
      "authorship_tag": "ABX9TyOP2wQQtbMbwnSZNuLHhPAV",
      "include_colab_link": true
    },
    "kernelspec": {
      "name": "python3",
      "display_name": "Python 3"
    },
    "language_info": {
      "name": "python"
    },
    "accelerator": "GPU"
  },
  "cells": [
    {
      "cell_type": "markdown",
      "metadata": {
        "id": "view-in-github",
        "colab_type": "text"
      },
      "source": [
        "<a href=\"https://colab.research.google.com/github/seungmindavid/Representational_Learning/blob/main/GAN/WGAN.ipynb\" target=\"_parent\"><img src=\"https://colab.research.google.com/assets/colab-badge.svg\" alt=\"Open In Colab\"/></a>"
      ]
    },
    {
      "cell_type": "code",
      "source": [
        "import numpy\n",
        "import torch\n",
        "import torch.nn as nn\n",
        "import torch.optim as optim\n",
        "import torch.nn.functional as F\n",
        "import pathlib\n",
        "import torchvision\n",
        "\n",
        "from matplotlib.pyplot import figure\n",
        "import matplotlib.pyplot as plt\n",
        "\n"
      ],
      "metadata": {
        "id": "agL7NEf3KH5Q"
      },
      "execution_count": 1,
      "outputs": []
    },
    {
      "cell_type": "markdown",
      "source": [
        "# Wasserstein Generative Adversarial Networks (WGANs)\n",
        "\n",
        "- JS Divergence has gradient issues which lead to unstable training. WGAN bases its loss from Wasserstein Distance.\n",
        "\n",
        "$\\text{max}_{||f|| \\leq 1}\\mathbb{E}_{x \\sim \\mathbb{P}_r}[f(x)] - \\mathbb{E}_{x \\sim \\mathbb{P}_θ}[f(x)]$\n",
        "\n",
        "Critic: maximize separation\n",
        "\n",
        "Generator: minimize separation.\n",
        "\n",
        "- After every gradient update on the critic function, clamp the weights to a small fixed range, [-c,c] to remain 1 Lipschitz Continuous.\n",
        "- Use a new loss function derived from Wasswersetein distance. The critic model does not play as a direct critic but a helper for estimating the Wasswersetein metric between real and genenearted data distribution.\n",
        "- Empirically, the authors recommended RMSProp optimizer on the critic rather than Adam which could cause instability in the model training.\n"
      ],
      "metadata": {
        "id": "X8HL6qd3KFjx"
      }
    },
    {
      "cell_type": "markdown",
      "source": [
        "# Loading Dataset (MNIST)\n",
        "Batch size\n",
        "- Train dataset: 128 batch size\n",
        "- Test dataset: 10 batch\n",
        "\n",
        "## Details of adversarial training\n",
        "- batch size: 128\n",
        "- All weights were initialized from a zero-centered Normal distribution with standard deviation 0.02\n",
        "- In the LeakyReLU, the slope of the leak was set to 0.2 in all models\n"
      ],
      "metadata": {
        "id": "YhFJrKDF3XLi"
      }
    },
    {
      "cell_type": "code",
      "source": [
        "batch_size_train = 128\n",
        "batch_size_test = 10\n",
        "img_size = 28\n",
        "\n",
        "# mean and standard deviation for mnist dataset: 0.1307, 0.3081\n",
        "transform = torchvision.transforms.Compose([\n",
        "    torchvision.transforms.Resize(img_size),\n",
        "    torchvision.transforms.ToTensor(),\n",
        "    torchvision.transforms.Normalize([0.5], [0.5]),\n",
        "])\n",
        "\n",
        "train_loader = torch.utils.data.DataLoader(\n",
        "    torchvision.datasets.MNIST('./data', train=True, download= True, transform=transform),\n",
        "    batch_size = batch_size_train, shuffle=True\n",
        ")\n",
        "\n",
        "test_loader = torch.utils.data.DataLoader(\n",
        "    torchvision.datasets.MNIST('./data', train=False, download=True, transform=transform),\n",
        "    batch_size = batch_size_test, shuffle=False\n",
        ")"
      ],
      "metadata": {
        "id": "vDp5HrAE3WnY",
        "colab": {
          "base_uri": "https://localhost:8080/"
        },
        "outputId": "64afe06b-a403-4461-ae9c-7e0e4912384e"
      },
      "execution_count": 2,
      "outputs": [
        {
          "output_type": "stream",
          "name": "stdout",
          "text": [
            "Downloading http://yann.lecun.com/exdb/mnist/train-images-idx3-ubyte.gz\n",
            "Downloading http://yann.lecun.com/exdb/mnist/train-images-idx3-ubyte.gz to ./data/MNIST/raw/train-images-idx3-ubyte.gz\n"
          ]
        },
        {
          "output_type": "stream",
          "name": "stderr",
          "text": [
            "100%|██████████| 9912422/9912422 [00:00<00:00, 137418562.49it/s]"
          ]
        },
        {
          "output_type": "stream",
          "name": "stdout",
          "text": [
            "Extracting ./data/MNIST/raw/train-images-idx3-ubyte.gz to ./data/MNIST/raw\n"
          ]
        },
        {
          "output_type": "stream",
          "name": "stderr",
          "text": [
            "\n"
          ]
        },
        {
          "output_type": "stream",
          "name": "stdout",
          "text": [
            "\n",
            "Downloading http://yann.lecun.com/exdb/mnist/train-labels-idx1-ubyte.gz\n",
            "Downloading http://yann.lecun.com/exdb/mnist/train-labels-idx1-ubyte.gz to ./data/MNIST/raw/train-labels-idx1-ubyte.gz\n"
          ]
        },
        {
          "output_type": "stream",
          "name": "stderr",
          "text": [
            "100%|██████████| 28881/28881 [00:00<00:00, 60719646.03it/s]"
          ]
        },
        {
          "output_type": "stream",
          "name": "stdout",
          "text": [
            "Extracting ./data/MNIST/raw/train-labels-idx1-ubyte.gz to ./data/MNIST/raw\n",
            "\n",
            "Downloading http://yann.lecun.com/exdb/mnist/t10k-images-idx3-ubyte.gz\n",
            "Downloading http://yann.lecun.com/exdb/mnist/t10k-images-idx3-ubyte.gz to ./data/MNIST/raw/t10k-images-idx3-ubyte.gz\n"
          ]
        },
        {
          "output_type": "stream",
          "name": "stderr",
          "text": [
            "\n",
            "100%|██████████| 1648877/1648877 [00:00<00:00, 126980967.18it/s]\n"
          ]
        },
        {
          "output_type": "stream",
          "name": "stdout",
          "text": [
            "Extracting ./data/MNIST/raw/t10k-images-idx3-ubyte.gz to ./data/MNIST/raw\n",
            "\n",
            "Downloading http://yann.lecun.com/exdb/mnist/t10k-labels-idx1-ubyte.gz\n",
            "Downloading http://yann.lecun.com/exdb/mnist/t10k-labels-idx1-ubyte.gz to ./data/MNIST/raw/t10k-labels-idx1-ubyte.gz\n"
          ]
        },
        {
          "output_type": "stream",
          "name": "stderr",
          "text": [
            "100%|██████████| 4542/4542 [00:00<00:00, 22177565.50it/s]\n"
          ]
        },
        {
          "output_type": "stream",
          "name": "stdout",
          "text": [
            "Extracting ./data/MNIST/raw/t10k-labels-idx1-ubyte.gz to ./data/MNIST/raw\n",
            "\n"
          ]
        }
      ]
    },
    {
      "cell_type": "markdown",
      "source": [
        "# Loss Construction\n",
        "- Discriminator: $\\text{min}_G \\text{max}_D \\mathbb{E}_{x\\sim p_{data}(x)}[log D(x)] + \\mathbb{E}_{z\\sim p_{z}(z)}[log(1-D(G(z)))]$, with fixed G (Generator).\n",
        "- $L_{dis} = BCE(D(x), 1) + BCE(D(G(z)), 0)$\n",
        "\n",
        "\n",
        "- Generator: $\\text{max}_G\\mathbb{E}_{z\\sim p_{z}(z)}[log(D(G(z)))]$ which is equal to $\\text{min}_G\\mathbb{E}_{z\\sim p_{z}(z)}[1-log(D(G(z)))]$ with fixed D\n",
        "(Discriminator)\n",
        "- $L_{gen} = -BCE(D(G(z)), 0) = BCE(D(G(z)), 1)$\n",
        "\n",
        "- The rationale for transitioning the generator from a minimization objective to a maximization objective lies in the common observation that, initially, the discriminator typically exhibits superior performance over the generator. This phenomenon lead $D(G(z))$ to outproduce 0. Particularly, when $x=0$, $log(x)$ has steeper gradient than $log(1-x)$, which faciliates the more efficient training of the Generator.\n"
      ],
      "metadata": {
        "id": "OmEUZ-9k4Q2z"
      }
    },
    {
      "cell_type": "markdown",
      "source": [
        "# Building Discriminator & Generator\n",
        "- [Linear → LeakyReLU] × 4 using increasing linear layer sizes, e.g., 128 → 256 → 512 → 1024 → (28 ∗ 28). LeakyReLU often replaces the ReLU non-linearity in direct generative models both in convolutional generators and fully connected generators.\n",
        "- Generator: 128 → 256 → 512 → 1024 → (28 ∗ 28)\n",
        "- Discriminator: (28 ∗ 28) → 1024 → 512 → 256 → 128 -> 1"
      ],
      "metadata": {
        "id": "_zI0niKu-LFb"
      }
    },
    {
      "cell_type": "code",
      "source": [
        "class Generator(nn.Module):\n",
        "  def __init__(self, z_dim, img_dim):\n",
        "    super().__init__()\n",
        "    self.gen = nn.Sequential(\n",
        "        nn.Linear(z_dim, 128),\n",
        "        nn.LeakyReLU(0.2, inplace=True),\n",
        "        nn.Linear(128, 256),\n",
        "        nn.BatchNorm1d(256, affine=True),\n",
        "        nn.LeakyReLU(0.2, inplace=True),\n",
        "        nn.Linear(256,512),\n",
        "        nn.BatchNorm1d(512, affine=True),\n",
        "        nn.LeakyReLU(0.2, inplace=True),\n",
        "        nn.Linear(512,1024),\n",
        "        nn.BatchNorm1d(1024, affine=True),\n",
        "        nn.LeakyReLU(0.2, inplace=True),\n",
        "        nn.Linear(1024, img_dim),\n",
        "        nn.Tanh(),\n",
        "    )\n",
        "\n",
        "  def forward(self, x):\n",
        "    return self.gen(x)"
      ],
      "metadata": {
        "id": "xZmviJMn-a8L"
      },
      "execution_count": 3,
      "outputs": []
    },
    {
      "cell_type": "code",
      "source": [
        "class Critic(nn.Module):\n",
        "  def __init__(self, img_dim):\n",
        "    super(Critic, self).__init__()\n",
        "    self.disc = nn.Sequential(\n",
        "        nn.Linear(img_dim, 1024),\n",
        "        nn.LeakyReLU(0.2, inplace=True),\n",
        "        nn.Linear(1024, 512),\n",
        "        nn.BatchNorm1d(512, affine=True),\n",
        "        nn.LeakyReLU(0.2, inplace=True),\n",
        "        nn.Linear(512, 256),\n",
        "        nn.BatchNorm1d(256, affine=True),\n",
        "        nn.LeakyReLU(0.2, inplace=True),\n",
        "        nn.Linear(256, 128),\n",
        "        nn.BatchNorm1d(128, affine=True),\n",
        "        nn.LeakyReLU(0.2, inplace=True),\n",
        "        nn.Linear(128, 1), # we need score for wgan\n",
        "        #nn.Sigmoid(), # not a [0,1] binary output\n",
        "    )\n",
        "  def forward(self, x):\n",
        "    return self.disc(x)\n",
        "\n"
      ],
      "metadata": {
        "id": "ypp0FLDDiWjL"
      },
      "execution_count": 4,
      "outputs": []
    },
    {
      "cell_type": "markdown",
      "source": [
        "# Training WGAN (without gradient penalty)\n"
      ],
      "metadata": {
        "id": "3McIh9gmAGGr"
      }
    },
    {
      "cell_type": "code",
      "source": [
        "# Save model\n",
        "saved_params_path = \"./saved_params_dcgan\"\n",
        "pathlib.Path(f\"./{saved_params_path}/\").mkdir(parents=True, exist_ok=True)\n",
        "\n",
        "# Hyperparameters\n",
        "if torch.cuda.is_available():\n",
        "  device = torch.device(\"cuda:0\")\n",
        "  print(\"GPU\")\n",
        "else:\n",
        "  device = torch.device(\"cpu\")\n",
        "  print(\"CPU\")\n",
        "\n",
        "lr = 3e-4\n",
        "z_dim = 100\n",
        "image_dim = 28*28*1\n",
        "num_epochs = 100\n",
        "critic_iteration = 5\n",
        "weight_clip = 0.01\n",
        "\n",
        "Gen_Loss = []\n",
        "Cri_Loss = []\n",
        "\n",
        "cri = Critic(image_dim).to(device)\n",
        "gen = Generator(z_dim, image_dim).to(device)\n",
        "cri_optim = optim.RMSprop(cri.parameters(), lr=lr)\n",
        "gen_optim = optim.RMSprop(gen.parameters(), lr=lr)\n",
        "\n",
        "\n",
        "for epoch in range(num_epochs):\n",
        "  for i, data in enumerate(train_loader, 0):\n",
        "    real, labels = data\n",
        "    real = real.view(-1, image_dim).to(device)\n",
        "    batch_size = real.shape[0]\n",
        "\n",
        "    # Train Critic\n",
        "    # Critic loss: D(x) - D(G(z))\n",
        "    # Objective: Maximize Critic loss: -D(x) + (-D(G(z)))\n",
        "    for _ in range(critic_iteration):\n",
        "      #cri.zero_grad()\n",
        "\n",
        "      noise = torch.randn(batch_size, z_dim).to(device)\n",
        "      fake = gen(noise)\n",
        "\n",
        "      D_x = cri(real).view(-1)\n",
        "      D_G_z = cri(fake).view(-1)\n",
        "\n",
        "      Critic_loss = -torch.mean(D_x) + torch.mean(D_G_z)\n",
        "      cri.zero_grad()\n",
        "      Critic_loss.backward(retain_graph = True)\n",
        "      cri_optim.step()\n",
        "      ## Clipping weights of critic\n",
        "      for p in cri.parameters():\n",
        "        p.data.clamp_(-weight_clip, weight_clip)\n",
        "\n",
        "    # Train Generator:\n",
        "    # Generator loss: D(G(z))\n",
        "    D_G_z = cri(fake).view(-1)\n",
        "    Generator_loss = -torch.mean(D_G_z)\n",
        "    gen.zero_grad()\n",
        "    Generator_loss.backward()\n",
        "    gen_optim.step()\n",
        "\n",
        "  print(f\"Epoch [{epoch+1}/{num_epochs}]\\\n",
        "        Critic Loss: {Critic_loss.item():.4f}, loss G: {Generator_loss.item():.4f}\")\n",
        "  Gen_Loss.append(Generator_loss.item())\n",
        "  Cri_Loss.append(Critic_loss.item())\n",
        "  torch.save(cri.state_dict(), f'{saved_params_path}/critic_{epoch}.pth')\n",
        "  torch.save(gen.state_dict(), f'{saved_params_path}/generator_{epoch}.pth')\n"
      ],
      "metadata": {
        "id": "OJ5Etza-lUuN",
        "colab": {
          "base_uri": "https://localhost:8080/"
        },
        "outputId": "621f24d7-f21d-46ab-94fa-8a361467939d"
      },
      "execution_count": 5,
      "outputs": [
        {
          "output_type": "stream",
          "name": "stdout",
          "text": [
            "GPU\n",
            "Epoch [1/100]        Critic Loss: -0.0022, loss G: 0.0108\n",
            "Epoch [2/100]        Critic Loss: -0.0024, loss G: 0.0111\n",
            "Epoch [3/100]        Critic Loss: -0.0019, loss G: 0.0108\n",
            "Epoch [4/100]        Critic Loss: -0.0022, loss G: 0.0111\n",
            "Epoch [5/100]        Critic Loss: -0.0019, loss G: 0.0110\n",
            "Epoch [6/100]        Critic Loss: -0.0021, loss G: 0.0111\n",
            "Epoch [7/100]        Critic Loss: -0.0021, loss G: 0.0111\n",
            "Epoch [8/100]        Critic Loss: -0.0023, loss G: 0.0111\n",
            "Epoch [9/100]        Critic Loss: -0.0020, loss G: 0.0110\n",
            "Epoch [10/100]        Critic Loss: -0.0022, loss G: 0.0110\n",
            "Epoch [11/100]        Critic Loss: -0.0015, loss G: 0.0110\n",
            "Epoch [12/100]        Critic Loss: -0.0019, loss G: 0.0109\n",
            "Epoch [13/100]        Critic Loss: -0.0021, loss G: 0.0108\n",
            "Epoch [14/100]        Critic Loss: -0.0019, loss G: 0.0111\n",
            "Epoch [15/100]        Critic Loss: -0.0020, loss G: 0.0108\n",
            "Epoch [16/100]        Critic Loss: -0.0017, loss G: 0.0112\n",
            "Epoch [17/100]        Critic Loss: -0.0020, loss G: 0.0111\n",
            "Epoch [18/100]        Critic Loss: -0.0018, loss G: 0.0106\n",
            "Epoch [19/100]        Critic Loss: -0.0018, loss G: 0.0110\n",
            "Epoch [20/100]        Critic Loss: -0.0013, loss G: 0.0104\n",
            "Epoch [21/100]        Critic Loss: -0.0017, loss G: 0.0111\n",
            "Epoch [22/100]        Critic Loss: -0.0010, loss G: 0.0109\n",
            "Epoch [23/100]        Critic Loss: -0.0014, loss G: 0.0109\n",
            "Epoch [24/100]        Critic Loss: -0.0018, loss G: 0.0109\n",
            "Epoch [25/100]        Critic Loss: -0.0019, loss G: 0.0109\n",
            "Epoch [26/100]        Critic Loss: -0.0015, loss G: 0.0111\n",
            "Epoch [27/100]        Critic Loss: -0.0014, loss G: 0.0111\n",
            "Epoch [28/100]        Critic Loss: -0.0011, loss G: 0.0106\n",
            "Epoch [29/100]        Critic Loss: -0.0013, loss G: 0.0107\n",
            "Epoch [30/100]        Critic Loss: -0.0014, loss G: 0.0110\n",
            "Epoch [31/100]        Critic Loss: -0.0010, loss G: 0.0106\n",
            "Epoch [32/100]        Critic Loss: -0.0012, loss G: 0.0112\n",
            "Epoch [33/100]        Critic Loss: -0.0018, loss G: 0.0105\n",
            "Epoch [34/100]        Critic Loss: -0.0014, loss G: 0.0113\n",
            "Epoch [35/100]        Critic Loss: -0.0018, loss G: 0.0110\n",
            "Epoch [36/100]        Critic Loss: -0.0012, loss G: 0.0112\n",
            "Epoch [37/100]        Critic Loss: -0.0015, loss G: 0.0113\n",
            "Epoch [38/100]        Critic Loss: -0.0014, loss G: 0.0107\n",
            "Epoch [39/100]        Critic Loss: -0.0011, loss G: 0.0113\n",
            "Epoch [40/100]        Critic Loss: -0.0018, loss G: 0.0111\n",
            "Epoch [41/100]        Critic Loss: -0.0014, loss G: 0.0108\n",
            "Epoch [42/100]        Critic Loss: -0.0012, loss G: 0.0109\n",
            "Epoch [43/100]        Critic Loss: -0.0013, loss G: 0.0105\n",
            "Epoch [44/100]        Critic Loss: -0.0016, loss G: 0.0104\n",
            "Epoch [45/100]        Critic Loss: -0.0011, loss G: 0.0112\n",
            "Epoch [46/100]        Critic Loss: -0.0012, loss G: 0.0111\n",
            "Epoch [47/100]        Critic Loss: -0.0014, loss G: 0.0107\n",
            "Epoch [48/100]        Critic Loss: -0.0014, loss G: 0.0105\n",
            "Epoch [49/100]        Critic Loss: -0.0013, loss G: 0.0108\n",
            "Epoch [50/100]        Critic Loss: -0.0016, loss G: 0.0106\n",
            "Epoch [51/100]        Critic Loss: -0.0015, loss G: 0.0105\n",
            "Epoch [52/100]        Critic Loss: -0.0018, loss G: 0.0103\n",
            "Epoch [53/100]        Critic Loss: -0.0015, loss G: 0.0104\n",
            "Epoch [54/100]        Critic Loss: -0.0014, loss G: 0.0110\n",
            "Epoch [55/100]        Critic Loss: -0.0013, loss G: 0.0107\n",
            "Epoch [56/100]        Critic Loss: -0.0018, loss G: 0.0114\n",
            "Epoch [57/100]        Critic Loss: -0.0015, loss G: 0.0105\n",
            "Epoch [58/100]        Critic Loss: -0.0016, loss G: 0.0112\n",
            "Epoch [59/100]        Critic Loss: -0.0013, loss G: 0.0103\n",
            "Epoch [60/100]        Critic Loss: -0.0019, loss G: 0.0102\n",
            "Epoch [61/100]        Critic Loss: -0.0018, loss G: 0.0112\n",
            "Epoch [62/100]        Critic Loss: -0.0018, loss G: 0.0105\n",
            "Epoch [63/100]        Critic Loss: -0.0020, loss G: 0.0105\n",
            "Epoch [64/100]        Critic Loss: -0.0020, loss G: 0.0107\n",
            "Epoch [65/100]        Critic Loss: -0.0016, loss G: 0.0115\n",
            "Epoch [66/100]        Critic Loss: -0.0015, loss G: 0.0112\n",
            "Epoch [67/100]        Critic Loss: -0.0019, loss G: 0.0111\n",
            "Epoch [68/100]        Critic Loss: -0.0016, loss G: 0.0108\n",
            "Epoch [69/100]        Critic Loss: -0.0017, loss G: 0.0106\n",
            "Epoch [70/100]        Critic Loss: -0.0010, loss G: 0.0109\n",
            "Epoch [71/100]        Critic Loss: -0.0009, loss G: 0.0099\n",
            "Epoch [72/100]        Critic Loss: -0.0016, loss G: 0.0114\n",
            "Epoch [73/100]        Critic Loss: -0.0021, loss G: 0.0107\n",
            "Epoch [74/100]        Critic Loss: -0.0018, loss G: 0.0114\n",
            "Epoch [75/100]        Critic Loss: -0.0011, loss G: 0.0098\n",
            "Epoch [76/100]        Critic Loss: -0.0010, loss G: 0.0111\n",
            "Epoch [77/100]        Critic Loss: -0.0022, loss G: 0.0111\n",
            "Epoch [78/100]        Critic Loss: -0.0023, loss G: 0.0115\n",
            "Epoch [79/100]        Critic Loss: -0.0017, loss G: 0.0115\n",
            "Epoch [80/100]        Critic Loss: -0.0013, loss G: 0.0113\n",
            "Epoch [81/100]        Critic Loss: -0.0018, loss G: 0.0115\n",
            "Epoch [82/100]        Critic Loss: -0.0019, loss G: 0.0115\n",
            "Epoch [83/100]        Critic Loss: -0.0010, loss G: 0.0110\n",
            "Epoch [84/100]        Critic Loss: -0.0017, loss G: 0.0114\n",
            "Epoch [85/100]        Critic Loss: -0.0018, loss G: 0.0116\n",
            "Epoch [86/100]        Critic Loss: -0.0004, loss G: 0.0107\n",
            "Epoch [87/100]        Critic Loss: -0.0016, loss G: 0.0114\n",
            "Epoch [88/100]        Critic Loss: -0.0011, loss G: 0.0110\n",
            "Epoch [89/100]        Critic Loss: -0.0010, loss G: 0.0110\n",
            "Epoch [90/100]        Critic Loss: -0.0012, loss G: 0.0110\n",
            "Epoch [91/100]        Critic Loss: -0.0017, loss G: 0.0108\n",
            "Epoch [92/100]        Critic Loss: -0.0018, loss G: 0.0114\n",
            "Epoch [93/100]        Critic Loss: -0.0016, loss G: 0.0112\n",
            "Epoch [94/100]        Critic Loss: -0.0012, loss G: 0.0111\n",
            "Epoch [95/100]        Critic Loss: -0.0010, loss G: 0.0104\n",
            "Epoch [96/100]        Critic Loss: -0.0005, loss G: 0.0109\n",
            "Epoch [97/100]        Critic Loss: -0.0010, loss G: 0.0099\n",
            "Epoch [98/100]        Critic Loss: -0.0016, loss G: 0.0112\n",
            "Epoch [99/100]        Critic Loss: -0.0016, loss G: 0.0116\n",
            "Epoch [100/100]        Critic Loss: -0.0008, loss G: 0.0108\n"
          ]
        }
      ]
    },
    {
      "cell_type": "markdown",
      "source": [
        "# Plotting Critic vs Generator"
      ],
      "metadata": {
        "id": "APfN9yZnTXD4"
      }
    },
    {
      "cell_type": "code",
      "source": [
        "import matplotlib.pyplot as plt\n",
        "\n",
        "# Define the x-axis (training iteration or epoch numbers)\n",
        "iterations = range(1, len(Gen_Loss) + 1)\n",
        "\n",
        "# Plot the loss curves for both models\n",
        "plt.figure(figsize=(10, 6))\n",
        "plt.plot(iterations, Gen_Loss, label='Generator BCE', marker='o', linestyle='-', color='b')\n",
        "plt.plot(iterations, Cri_Loss, label='Critic BCE', marker='x', linestyle='--', color='r')\n",
        "\n",
        "# Add labels and a legend\n",
        "plt.xlabel('Training Iterations')\n",
        "plt.ylabel('BCE')\n",
        "plt.title('Comparison of Critic and Generator BCE')\n",
        "plt.legend()\n",
        "\n",
        "# Display the plot\n",
        "plt.grid(True)\n",
        "plt.tight_layout()\n",
        "plt.show()"
      ],
      "metadata": {
        "colab": {
          "base_uri": "https://localhost:8080/",
          "height": 607
        },
        "id": "WIZOCcFcmtrS",
        "outputId": "cc69a091-a57b-463d-fe38-55f94f108f74"
      },
      "execution_count": 6,
      "outputs": [
        {
          "output_type": "display_data",
          "data": {
            "text/plain": [
              "<Figure size 1000x600 with 1 Axes>"
            ],
            "image/png": "[encoded data removed]"
          },
          "metadata": {}
        }
      ]
    },
    {
      "cell_type": "code",
      "source": [
        "#gen.load_state_dict(torch.load(f\"{saved_params_path}/{epoch}.pth\"))\n",
        "gen.eval()\n",
        "\n",
        "fixed_noise = torch.randn((batch_size_test, z_dim)).to(device)\n",
        "generated_images = gen(fixed_noise)\n",
        "\n",
        "real_images, _ = next(iter(test_loader))\n",
        "real_images = real_images.view(real_images.size(0), -1).numpy()\n",
        "\n",
        "import matplotlib.pyplot as plt\n",
        "\n",
        "# Display generated and real images in a 4x4 grid\n",
        "plt.figure(figsize=(10, 10))\n",
        "\n",
        "for i in range(20):\n",
        "    plt.subplot(5, 5, i + 1)\n",
        "    if i < 10:\n",
        "        plt.imshow(generated_images[i].view(28, 28).cpu().detach().numpy(), cmap='gray')\n",
        "        plt.title('Generated')\n",
        "    else:\n",
        "        plt.imshow(real_images[i - 10].reshape(28, 28), cmap='gray')\n",
        "        plt.title('Real')\n",
        "    plt.axis('off')\n",
        "\n"
      ],
      "metadata": {
        "colab": {
          "base_uri": "https://localhost:8080/",
          "height": 670
        },
        "id": "qSgQ4mgipvBR",
        "outputId": "a0b211b5-b6ff-45aa-b444-739f8845fa1c"
      },
      "execution_count": 7,
      "outputs": [
        {
          "output_type": "display_data",
          "data": {
            "text/plain": [
              "<Figure size 1000x1000 with 20 Axes>"
            ],
            "image/png": "[encoded data removed]"
          },
          "metadata": {}
        }
      ]
    },
    {
      "cell_type": "code",
      "source": [
        "ㅈreal_images, _ = next(iter(test_loader))\n",
        "print(real_images.shape)\n"
      ],
      "metadata": {
        "id": "HuHRwGlOjsxF",
        "colab": {
          "base_uri": "https://localhost:8080/"
        },
        "outputId": "f52e8d9a-46b9-4151-b73f-a786bf1507da"
      },
      "execution_count": 8,
      "outputs": [
        {
          "output_type": "stream",
          "name": "stdout",
          "text": [
            "torch.Size([10, 1, 28, 28])\n"
          ]
        }
      ]
    },
    {
      "cell_type": "code",
      "source": [
        "torch.Size([10, 1, 32, 32])\n",
        "(10, 1024)"
      ],
      "metadata": {
        "colab": {
          "base_uri": "https://localhost:8080/"
        },
        "id": "MGEktJzIfd9r",
        "outputId": "fe4dcd0f-af9d-4368-ad8b-58cdb9c8cae5"
      },
      "execution_count": 11,
      "outputs": [
        {
          "output_type": "execute_result",
          "data": {
            "text/plain": [
              "torch.Size([10, 1, 32, 32])"
            ]
          },
          "metadata": {},
          "execution_count": 11
        }
      ]
    },
    {
      "cell_type": "code",
      "source": [],
      "metadata": {
        "id": "p9A9PxlcflIc"
      },
      "execution_count": null,
      "outputs": []
    }
  ]
}
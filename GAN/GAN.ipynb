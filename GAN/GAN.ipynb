{
  "nbformat": 4,
  "nbformat_minor": 0,
  "metadata": {
    "colab": {
      "provenance": [],
      "gpuType": "T4",
      "authorship_tag": "ABX9TyNxiF65+ugbLYK9DQl1oKsV",
      "include_colab_link": true
    },
    "kernelspec": {
      "name": "python3",
      "display_name": "Python 3"
    },
    "language_info": {
      "name": "python"
    },
    "accelerator": "GPU"
  },
  "cells": [
    {
      "cell_type": "markdown",
      "metadata": {
        "id": "view-in-github",
        "colab_type": "text"
      },
      "source": [
        "<a href=\"https://colab.research.google.com/github/seungmindavid/Representational_Learning/blob/main/GAN/GAN.ipynb\" target=\"_parent\"><img src=\"https://colab.research.google.com/assets/colab-badge.svg\" alt=\"Open In Colab\"/></a>"
      ]
    },
    {
      "cell_type": "code",
      "execution_count": null,
      "metadata": {
        "id": "kUQ4dRAUKBYj"
      },
      "outputs": [],
      "source": []
    },
    {
      "cell_type": "markdown",
      "source": [
        "# Generative Adversarial Network (GAN)\n",
        "\n",
        "Discriminator: $\\frac{1}{m}\\sum^m_{i=1}[log D(x^{(i)}) + log(1-D(G(z^{(i)})))]$ where $z^{(i)}:$ Random noise\n",
        "\n",
        "\n",
        "Generator: $\\frac{1}{m}\\sum^m_{i=1}log(1-D(G(z^{(i)})))$\n",
        "\n",
        "$L_{GAN} = \\min_G\\max_D V(D,G) = \\mathbb{E}_{x \\sim p_{data}(x)} [\\log D(x)] + \\mathbb{E}_{z \\sim p_z(z)}[\\log(1-D(G(z)))]$\n",
        "\n",
        "In practice, Generator is trained to instead:\n",
        "$\\max_G \\mathbb{E}_{z\\sim p_z(z)}[log D(G(z))]$.\n",
        "\n",
        "The prevalent occurrence of $D(G(z))=0$ initially arises from the fact that the logarithmic function $log(x)$ exhibits a more pronounced steepness when $x$ is equal to zero, as compared to the slope of $log(1-x)$.\n"
      ],
      "metadata": {
        "id": "X8HL6qd3KFjx"
      }
    },
    {
      "cell_type": "code",
      "source": [
        "import numpy\n",
        "import torch\n",
        "import torch.nn as nn\n",
        "import torch.optim as optim\n",
        "import torch.nn.functional as F\n",
        "import pathlib\n",
        "import torchvision\n"
      ],
      "metadata": {
        "id": "agL7NEf3KH5Q"
      },
      "execution_count": 1,
      "outputs": []
    },
    {
      "cell_type": "markdown",
      "source": [
        "# Loading Dataset (MNIST)\n",
        "Batch size\n",
        "- Train dataset: 1024 batch size\n",
        "- Test dataset: 10 batch\n",
        "\n"
      ],
      "metadata": {
        "id": "YhFJrKDF3XLi"
      }
    },
    {
      "cell_type": "code",
      "source": [
        "batch_size_train = 1024\n",
        "batch_size_test = 10\n",
        "\n",
        "# mean and standard deviation for mnist dataset: 0.1307, 0.3081\n",
        "transform = torchvision.transforms.Compose([\n",
        "    torchvision.transforms.ToTensor(),\n",
        "    torchvision.transforms.Normalize((0.1307,), (0.3081,))\n",
        "])\n",
        "\n",
        "train_loader = torch.utils.data.DataLoader(\n",
        "    torchvision.datasets.MNIST('./data', train=True, download= True, transform=transform),\n",
        "    batch_size = batch_size_train, shuffle=True\n",
        ")\n",
        "\n",
        "test_loader = torch.utils.data.DataLoader(\n",
        "    torchvision.datasets.MNIST('./data', train=False, download=True, transform=transform),\n",
        "    batch_size = batch_size_test, shuffle=False\n",
        ")"
      ],
      "metadata": {
        "id": "vDp5HrAE3WnY",
        "colab": {
          "base_uri": "https://localhost:8080/"
        },
        "outputId": "abc0bae0-0e26-430c-e574-c03af48cbf95"
      },
      "execution_count": 2,
      "outputs": [
        {
          "output_type": "stream",
          "name": "stdout",
          "text": [
            "Downloading http://yann.lecun.com/exdb/mnist/train-images-idx3-ubyte.gz\n",
            "Downloading http://yann.lecun.com/exdb/mnist/train-images-idx3-ubyte.gz to ./data/MNIST/raw/train-images-idx3-ubyte.gz\n"
          ]
        },
        {
          "output_type": "stream",
          "name": "stderr",
          "text": [
            "100%|██████████| 9912422/9912422 [00:00<00:00, 114917648.35it/s]"
          ]
        },
        {
          "output_type": "stream",
          "name": "stdout",
          "text": [
            "Extracting ./data/MNIST/raw/train-images-idx3-ubyte.gz to ./data/MNIST/raw\n"
          ]
        },
        {
          "output_type": "stream",
          "name": "stderr",
          "text": [
            "\n"
          ]
        },
        {
          "output_type": "stream",
          "name": "stdout",
          "text": [
            "\n",
            "Downloading http://yann.lecun.com/exdb/mnist/train-labels-idx1-ubyte.gz\n",
            "Downloading http://yann.lecun.com/exdb/mnist/train-labels-idx1-ubyte.gz to ./data/MNIST/raw/train-labels-idx1-ubyte.gz\n"
          ]
        },
        {
          "output_type": "stream",
          "name": "stderr",
          "text": [
            "100%|██████████| 28881/28881 [00:00<00:00, 108837101.37it/s]\n"
          ]
        },
        {
          "output_type": "stream",
          "name": "stdout",
          "text": [
            "Extracting ./data/MNIST/raw/train-labels-idx1-ubyte.gz to ./data/MNIST/raw\n",
            "\n",
            "Downloading http://yann.lecun.com/exdb/mnist/t10k-images-idx3-ubyte.gz\n",
            "Downloading http://yann.lecun.com/exdb/mnist/t10k-images-idx3-ubyte.gz to ./data/MNIST/raw/t10k-images-idx3-ubyte.gz\n"
          ]
        },
        {
          "output_type": "stream",
          "name": "stderr",
          "text": [
            "100%|██████████| 1648877/1648877 [00:00<00:00, 47754095.67it/s]\n"
          ]
        },
        {
          "output_type": "stream",
          "name": "stdout",
          "text": [
            "Extracting ./data/MNIST/raw/t10k-images-idx3-ubyte.gz to ./data/MNIST/raw\n",
            "\n",
            "Downloading http://yann.lecun.com/exdb/mnist/t10k-labels-idx1-ubyte.gz\n",
            "Downloading http://yann.lecun.com/exdb/mnist/t10k-labels-idx1-ubyte.gz to ./data/MNIST/raw/t10k-labels-idx1-ubyte.gz\n"
          ]
        },
        {
          "output_type": "stream",
          "name": "stderr",
          "text": [
            "100%|██████████| 4542/4542 [00:00<00:00, 25033546.34it/s]\n"
          ]
        },
        {
          "output_type": "stream",
          "name": "stdout",
          "text": [
            "Extracting ./data/MNIST/raw/t10k-labels-idx1-ubyte.gz to ./data/MNIST/raw\n",
            "\n"
          ]
        }
      ]
    },
    {
      "cell_type": "markdown",
      "source": [
        "# Loss Construction\n",
        "- Discriminator: $\\text{min}_G \\text{max}_D \\mathbb{E}_{x\\sim p_{data}(x)}[log D(x)] + \\mathbb{E}_{z\\sim p_{z}(z)}[log(1-D(G(z)))]$, with fixed G (Generator).\n",
        "- $L_{dis} = BCE(D(x), 1) + BCE(D(G(z)), 0)$\n",
        "\n",
        "\n",
        "- Generator: $\\text{max}_G\\mathbb{E}_{z\\sim p_{z}(z)}[log(D(G(z)))]$ which is equal to $\\text{min}_G\\mathbb{E}_{z\\sim p_{z}(z)}[1-log(D(G(z)))]$ with fixed D\n",
        "(Discriminator)\n",
        "- $L_{gen} = -BCE(D(G(z)), 0) = BCE(D(G(z)), 1)$\n",
        "\n",
        "- The rationale for transitioning the generator from a minimization objective to a maximization objective lies in the common observation that, initially, the discriminator typically exhibits superior performance over the generator. This phenomenon lead $D(G(z))$ to outproduce 0. Particularly, when $x=0$, $log(x)$ has steeper gradient than $log(1-x)$, which faciliates the more efficient training of the Generator.\n"
      ],
      "metadata": {
        "id": "OmEUZ-9k4Q2z"
      }
    },
    {
      "cell_type": "code",
      "source": [
        "BCE = nn.BCELoss()"
      ],
      "metadata": {
        "id": "GIvoVJ_q4Qob"
      },
      "execution_count": 3,
      "outputs": []
    },
    {
      "cell_type": "markdown",
      "source": [
        "# Building Discriminator & Generator\n",
        "- [Linear → LeakyReLU] × 4 using increasing linear layer sizes, e.g., 128 → 256 → 512 → 1024 → (28 ∗ 28). LeakyReLU often replaces the ReLU non-linearity in direct generative models both in convolutional generators and fully connected generators.\n",
        "- Generator: 128 → 256 → 512 → 1024 → (28 ∗ 28)\n",
        "- Discriminator: (28 ∗ 28) → 1024 → 512 → 256 → 128 -> 1"
      ],
      "metadata": {
        "id": "_zI0niKu-LFb"
      }
    },
    {
      "cell_type": "code",
      "source": [
        "class Discriminator(nn.Module):\n",
        "  def __init__(self, img_dim):\n",
        "    super().__init__()\n",
        "    self.disc = nn.Sequential(\n",
        "        nn.Linear(img_dim, 1024),\n",
        "        nn.LeakyReLU(0.1),\n",
        "        nn.Linear(1024,512),\n",
        "        nn.LeakyReLU(0.1),\n",
        "        nn.Linear(512,256),\n",
        "        nn.LeakyReLU(0.1),\n",
        "        nn.Linear(256,128),\n",
        "        nn.LeakyReLU(0.1),\n",
        "        nn.Linear(128,1),\n",
        "        nn.Sigmoid(),\n",
        "    )\n",
        "  def forward(self, x):\n",
        "    return self.disc(x)\n",
        "\n",
        "class Generator(nn.Module):\n",
        "  def __init__(self, z_dim, img_dim):\n",
        "    super().__init__()\n",
        "    self.gen = nn.Sequential(\n",
        "        nn.Linear(z_dim, 128),\n",
        "        nn.LeakyReLU(0.1),\n",
        "        nn.Linear(128, 256),\n",
        "        nn.LeakyReLU(0.1),\n",
        "        nn.Linear(256,514),\n",
        "        nn.LeakyReLU(0.1),\n",
        "        nn.Linear(514,1024),\n",
        "        nn.LeakyReLU(0.1),\n",
        "        nn.Linear(1024, img_dim),\n",
        "        nn.Tanh(),\n",
        "    )\n",
        "  def forward(self, x):\n",
        "    return self.gen(x)\n",
        "\n"
      ],
      "metadata": {
        "id": "ypp0FLDDiWjL"
      },
      "execution_count": 4,
      "outputs": []
    },
    {
      "cell_type": "markdown",
      "source": [
        "# Training GAN"
      ],
      "metadata": {
        "id": "3McIh9gmAGGr"
      }
    },
    {
      "cell_type": "code",
      "source": [
        "# Save model\n",
        "saved_params_path = \"./saved_params_gan\"\n",
        "pathlib.Path(f\"./{saved_params_path}/\").mkdir(parents=True, exist_ok=True)\n",
        "\n",
        "# Hyperparameters\n",
        "if torch.cuda.is_available():\n",
        "  device = torch.device(\"cuda:0\")\n",
        "  print(\"GPU\")\n",
        "else:\n",
        "  device = torch.device(\"cpu\")\n",
        "  print(\"CPU\")\n",
        "lr = 3e-4\n",
        "z_dim = 64\n",
        "image_dim = 28*28*1 #784\n",
        "num_epochs = 100\n",
        "\n",
        "Gen_Loss = []\n",
        "Dis_Loss = []\n",
        "\n",
        "dis = Discriminator(image_dim).to(device)\n",
        "dis_optim = optim.Adam(dis.parameters(), lr=lr)\n",
        "gen = Generator(z_dim, image_dim).to(device)\n",
        "gen_optim = optim.Adam(gen.parameters(), lr=lr)\n",
        "fixed_noise = torch.randn((batch_size_train, z_dim)).to(device)\n",
        "\n",
        "for epoch in range(num_epochs):\n",
        "  for i, data in enumerate(train_loader, 0):\n",
        "    real, labels = data\n",
        "    real = real.view(-1, 784).to(device)\n",
        "    batch_size = real.shape[0]\n",
        "\n",
        "    # Train Discriminator\n",
        "    noise = torch.randn(batch_size, z_dim).to(device)\n",
        "    fake = gen(noise)\n",
        "    D_x = dis(real).view(-1)\n",
        "    L_dis_real = BCE(D_x, torch.ones_like(D_x))\n",
        "\n",
        "    D_G_z = dis(fake).view(-1)\n",
        "    L_dis_fake = BCE(D_G_z, torch.zeros_like(D_G_z))\n",
        "    D_loss = (L_dis_real + L_dis_fake) /2\n",
        "    dis.zero_grad()\n",
        "    D_loss.backward(retain_graph=True)\n",
        "    dis_optim.step()\n",
        "\n",
        "    # Train Generator\n",
        "    D_G_z = dis(fake).view(-1)\n",
        "    G_loss = BCE(D_G_z, torch.ones_like(D_G_z))\n",
        "    gen.zero_grad()\n",
        "    G_loss.backward()\n",
        "    gen_optim.step()\n",
        "  print(f\"Epoch [{epoch}/{num_epochs}]\\\n",
        "        Discriminator Loss: {D_loss.item():.4f}, loss G: {G_loss.item():.4f}\")\n",
        "  Gen_Loss.append(G_loss.item())\n",
        "  Dis_Loss.append(D_loss.item())\n",
        "  torch.save(dis.state_dict(), f'{saved_params_path}/discriminator_{epoch}.pth')\n",
        "  torch.save(dis.state_dict(), f'{saved_params_path}/generator_{epoch}.pth')\n"
      ],
      "metadata": {
        "id": "OJ5Etza-lUuN",
        "colab": {
          "base_uri": "https://localhost:8080/"
        },
        "outputId": "52b40396-695f-475d-b04a-e764535d2a60"
      },
      "execution_count": 5,
      "outputs": [
        {
          "output_type": "stream",
          "name": "stdout",
          "text": [
            "GPU\n",
            "Epoch [0/100]        Discriminator Loss: 1.2528, loss G: 1.2086\n",
            "Epoch [1/100]        Discriminator Loss: 1.3279, loss G: 0.3100\n",
            "Epoch [2/100]        Discriminator Loss: 0.5731, loss G: 0.8149\n",
            "Epoch [3/100]        Discriminator Loss: 0.1448, loss G: 1.7877\n",
            "Epoch [4/100]        Discriminator Loss: 0.0737, loss G: 5.1173\n",
            "Epoch [5/100]        Discriminator Loss: 0.0691, loss G: 16.5944\n",
            "Epoch [6/100]        Discriminator Loss: 0.0041, loss G: 44.6670\n",
            "Epoch [7/100]        Discriminator Loss: 0.4923, loss G: 12.9129\n",
            "Epoch [8/100]        Discriminator Loss: 0.0017, loss G: 15.7786\n",
            "Epoch [9/100]        Discriminator Loss: 0.0150, loss G: 7.4951\n",
            "Epoch [10/100]        Discriminator Loss: 0.1604, loss G: 6.9554\n",
            "Epoch [11/100]        Discriminator Loss: 0.0629, loss G: 5.3384\n",
            "Epoch [12/100]        Discriminator Loss: 0.0594, loss G: 9.7275\n",
            "Epoch [13/100]        Discriminator Loss: 0.0058, loss G: 5.3350\n",
            "Epoch [14/100]        Discriminator Loss: 0.0212, loss G: 9.0053\n",
            "Epoch [15/100]        Discriminator Loss: 0.0269, loss G: 15.3988\n",
            "Epoch [16/100]        Discriminator Loss: 0.0155, loss G: 8.7242\n",
            "Epoch [17/100]        Discriminator Loss: 0.0098, loss G: 8.0950\n",
            "Epoch [18/100]        Discriminator Loss: 0.0266, loss G: 15.6212\n",
            "Epoch [19/100]        Discriminator Loss: 0.0180, loss G: 9.7847\n",
            "Epoch [20/100]        Discriminator Loss: 0.0537, loss G: 8.8658\n",
            "Epoch [21/100]        Discriminator Loss: 0.0043, loss G: 10.4355\n",
            "Epoch [22/100]        Discriminator Loss: 0.0000, loss G: 100.0000\n",
            "Epoch [23/100]        Discriminator Loss: 0.0000, loss G: 100.0000\n",
            "Epoch [24/100]        Discriminator Loss: 0.0000, loss G: 100.0000\n",
            "Epoch [25/100]        Discriminator Loss: 0.0000, loss G: 100.0000\n",
            "Epoch [26/100]        Discriminator Loss: 0.0000, loss G: 100.0000\n",
            "Epoch [27/100]        Discriminator Loss: 0.0001, loss G: 100.0000\n",
            "Epoch [28/100]        Discriminator Loss: 0.0000, loss G: 100.0000\n",
            "Epoch [29/100]        Discriminator Loss: 0.0000, loss G: 100.0000\n",
            "Epoch [30/100]        Discriminator Loss: 0.0001, loss G: 100.0000\n",
            "Epoch [31/100]        Discriminator Loss: 0.0000, loss G: 100.0000\n",
            "Epoch [32/100]        Discriminator Loss: 0.0000, loss G: 100.0000\n",
            "Epoch [33/100]        Discriminator Loss: 0.0000, loss G: 100.0000\n",
            "Epoch [34/100]        Discriminator Loss: 0.0000, loss G: 100.0000\n",
            "Epoch [35/100]        Discriminator Loss: 0.0000, loss G: 100.0000\n",
            "Epoch [36/100]        Discriminator Loss: 0.0000, loss G: 100.0000\n",
            "Epoch [37/100]        Discriminator Loss: 0.0000, loss G: 100.0000\n",
            "Epoch [38/100]        Discriminator Loss: 0.0000, loss G: 100.0000\n",
            "Epoch [39/100]        Discriminator Loss: 0.0000, loss G: 100.0000\n",
            "Epoch [40/100]        Discriminator Loss: 0.0000, loss G: 100.0000\n",
            "Epoch [41/100]        Discriminator Loss: 0.0000, loss G: 100.0000\n",
            "Epoch [42/100]        Discriminator Loss: 0.0000, loss G: 100.0000\n",
            "Epoch [43/100]        Discriminator Loss: 0.0000, loss G: 100.0000\n",
            "Epoch [44/100]        Discriminator Loss: 0.0000, loss G: 100.0000\n",
            "Epoch [45/100]        Discriminator Loss: 0.0000, loss G: 100.0000\n",
            "Epoch [46/100]        Discriminator Loss: 0.0000, loss G: 100.0000\n",
            "Epoch [47/100]        Discriminator Loss: 0.0000, loss G: 100.0000\n",
            "Epoch [48/100]        Discriminator Loss: 0.0000, loss G: 100.0000\n",
            "Epoch [49/100]        Discriminator Loss: 0.0000, loss G: 100.0000\n",
            "Epoch [50/100]        Discriminator Loss: 0.0000, loss G: 100.0000\n",
            "Epoch [51/100]        Discriminator Loss: 0.0000, loss G: 100.0000\n",
            "Epoch [52/100]        Discriminator Loss: 0.0000, loss G: 100.0000\n",
            "Epoch [53/100]        Discriminator Loss: 0.0000, loss G: 100.0000\n",
            "Epoch [54/100]        Discriminator Loss: 0.0000, loss G: 100.0000\n",
            "Epoch [55/100]        Discriminator Loss: 0.0000, loss G: 100.0000\n",
            "Epoch [56/100]        Discriminator Loss: 0.0000, loss G: 100.0000\n",
            "Epoch [57/100]        Discriminator Loss: 0.0000, loss G: 100.0000\n",
            "Epoch [58/100]        Discriminator Loss: 0.0000, loss G: 100.0000\n",
            "Epoch [59/100]        Discriminator Loss: 0.0000, loss G: 100.0000\n",
            "Epoch [60/100]        Discriminator Loss: 0.0000, loss G: 100.0000\n",
            "Epoch [61/100]        Discriminator Loss: 0.0000, loss G: 100.0000\n",
            "Epoch [62/100]        Discriminator Loss: 0.0000, loss G: 100.0000\n",
            "Epoch [63/100]        Discriminator Loss: 0.0000, loss G: 100.0000\n",
            "Epoch [64/100]        Discriminator Loss: 0.0000, loss G: 100.0000\n",
            "Epoch [65/100]        Discriminator Loss: 0.0000, loss G: 100.0000\n",
            "Epoch [66/100]        Discriminator Loss: 0.0000, loss G: 100.0000\n",
            "Epoch [67/100]        Discriminator Loss: 0.0000, loss G: 100.0000\n",
            "Epoch [68/100]        Discriminator Loss: 0.0000, loss G: 100.0000\n",
            "Epoch [69/100]        Discriminator Loss: 0.0000, loss G: 100.0000\n",
            "Epoch [70/100]        Discriminator Loss: 0.0000, loss G: 100.0000\n",
            "Epoch [71/100]        Discriminator Loss: 0.0000, loss G: 100.0000\n",
            "Epoch [72/100]        Discriminator Loss: 0.0000, loss G: 100.0000\n",
            "Epoch [73/100]        Discriminator Loss: 0.0000, loss G: 100.0000\n",
            "Epoch [74/100]        Discriminator Loss: 0.0000, loss G: 100.0000\n",
            "Epoch [75/100]        Discriminator Loss: 0.0000, loss G: 100.0000\n",
            "Epoch [76/100]        Discriminator Loss: 0.0000, loss G: 100.0000\n",
            "Epoch [77/100]        Discriminator Loss: 0.0000, loss G: 100.0000\n",
            "Epoch [78/100]        Discriminator Loss: 0.0000, loss G: 100.0000\n",
            "Epoch [79/100]        Discriminator Loss: 0.0000, loss G: 100.0000\n",
            "Epoch [80/100]        Discriminator Loss: 0.0000, loss G: 100.0000\n",
            "Epoch [81/100]        Discriminator Loss: 0.0000, loss G: 100.0000\n",
            "Epoch [82/100]        Discriminator Loss: 0.0000, loss G: 100.0000\n",
            "Epoch [83/100]        Discriminator Loss: 0.0000, loss G: 100.0000\n",
            "Epoch [84/100]        Discriminator Loss: 0.0000, loss G: 100.0000\n",
            "Epoch [85/100]        Discriminator Loss: 0.0000, loss G: 100.0000\n",
            "Epoch [86/100]        Discriminator Loss: 0.0000, loss G: 100.0000\n",
            "Epoch [87/100]        Discriminator Loss: 0.0000, loss G: 100.0000\n",
            "Epoch [88/100]        Discriminator Loss: 0.0000, loss G: 100.0000\n",
            "Epoch [89/100]        Discriminator Loss: 0.0000, loss G: 100.0000\n",
            "Epoch [90/100]        Discriminator Loss: 0.0000, loss G: 100.0000\n",
            "Epoch [91/100]        Discriminator Loss: 0.0000, loss G: 100.0000\n",
            "Epoch [92/100]        Discriminator Loss: 0.0000, loss G: 100.0000\n",
            "Epoch [93/100]        Discriminator Loss: 0.0000, loss G: 100.0000\n",
            "Epoch [94/100]        Discriminator Loss: 0.0000, loss G: 100.0000\n",
            "Epoch [95/100]        Discriminator Loss: 0.0000, loss G: 100.0000\n",
            "Epoch [96/100]        Discriminator Loss: 0.0000, loss G: 100.0000\n",
            "Epoch [97/100]        Discriminator Loss: 0.0000, loss G: 100.0000\n",
            "Epoch [98/100]        Discriminator Loss: 0.0000, loss G: 100.0000\n",
            "Epoch [99/100]        Discriminator Loss: 0.0000, loss G: 100.0000\n"
          ]
        }
      ]
    },
    {
      "cell_type": "markdown",
      "source": [
        "# Plotting Discriminator vs Generator"
      ],
      "metadata": {
        "id": "APfN9yZnTXD4"
      }
    },
    {
      "cell_type": "code",
      "source": [
        "import matplotlib.pyplot as plt\n",
        "\n",
        "# Define the x-axis (training iteration or epoch numbers)\n",
        "iterations = range(1, len(Gen_Loss) + 1)\n",
        "\n",
        "# Plot the loss curves for both models\n",
        "plt.figure(figsize=(10, 6))\n",
        "plt.plot(iterations, Gen_Loss, label='Generator BCE', marker='o', linestyle='-', color='b')\n",
        "plt.plot(iterations, Dis_Loss, label='Discriminator BCE', marker='x', linestyle='--', color='r')\n",
        "\n",
        "# Add labels and a legend\n",
        "plt.xlabel('Training Iterations')\n",
        "plt.ylabel('BCE')\n",
        "plt.title('Comparison of Discriminator and Generator BCE')\n",
        "plt.legend()\n",
        "\n",
        "# Display the plot\n",
        "plt.grid(True)\n",
        "plt.tight_layout()\n",
        "plt.show()"
      ],
      "metadata": {
        "colab": {
          "base_uri": "https://localhost:8080/",
          "height": 607
        },
        "id": "WIZOCcFcmtrS",
        "outputId": "13806f72-05f2-4b1f-faee-374ce5ba2e4d"
      },
      "execution_count": 6,
      "outputs": [
        {
          "output_type": "display_data",
          "data": {
            "text/plain": [
              "<Figure size 1000x600 with 1 Axes>"
            ],
            "image/png": "[encoded data removed]"
          },
          "metadata": {}
        }
      ]
    },
    {
      "cell_type": "code",
      "source": [
        "#gen.load_state_dict(torch.load(f\"{saved_params_path}/{epoch}.pth\"))\n",
        "gen.eval()\n",
        "\n",
        "fixed_noise = torch.randn((batch_size_test, z_dim)).to(device)\n",
        "generated_images = gen(fixed_noise)\n",
        "\n",
        "real_images, _ = next(iter(test_loader))\n",
        "real_images = real_images.view(real_images.size(0), -1).numpy()\n",
        "\n",
        "import matplotlib.pyplot as plt\n",
        "\n",
        "# Display generated and real images in a 4x4 grid\n",
        "plt.figure(figsize=(10, 10))\n",
        "\n",
        "for i in range(20):\n",
        "    plt.subplot(5, 5, i + 1)\n",
        "    if i < 10:\n",
        "        plt.imshow(generated_images[i].view(28, 28).cpu().detach().numpy(), cmap='gray')\n",
        "        plt.title('Generated')\n",
        "    else:\n",
        "        plt.imshow(real_images[i - 10].reshape(28, 28), cmap='gray')\n",
        "        plt.title('Real')\n",
        "    plt.axis('off')\n",
        "\n"
      ],
      "metadata": {
        "colab": {
          "base_uri": "https://localhost:8080/",
          "height": 670
        },
        "id": "qSgQ4mgipvBR",
        "outputId": "bcb78512-90b5-4964-e9fe-1220710dd086"
      },
      "execution_count": 7,
      "outputs": [
        {
          "output_type": "display_data",
          "data": {
            "text/plain": [
              "<Figure size 1000x1000 with 20 Axes>"
            ],
            "image/png": "[encoded data removed]"
          },
          "metadata": {}
        }
      ]
    },
    {
      "cell_type": "code",
      "source": [],
      "metadata": {
        "id": "HuHRwGlOjsxF"
      },
      "execution_count": null,
      "outputs": []
    }
  ]
}